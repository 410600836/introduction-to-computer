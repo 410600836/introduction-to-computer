{
  "nbformat": 4,
  "nbformat_minor": 0,
  "metadata": {
    "colab": {
      "name": "0328.ipynb",
      "provenance": [],
      "authorship_tag": "ABX9TyMHTNFGLCWIBI9OYGK5znWQ",
      "include_colab_link": true
    },
    "kernelspec": {
      "name": "python3",
      "display_name": "Python 3"
    },
    "language_info": {
      "name": "python"
    }
  },
  "cells": [
    {
      "cell_type": "markdown",
      "metadata": {
        "id": "view-in-github",
        "colab_type": "text"
      },
      "source": [
        "<a href=\"https://colab.research.google.com/github/410600836/introduction-to-computer/blob/main/0328.ipynb\" target=\"_parent\"><img src=\"https://colab.research.google.com/assets/colab-badge.svg\" alt=\"Open In Colab\"/></a>"
      ]
    },
    {
      "cell_type": "code",
      "execution_count": 25,
      "metadata": {
        "id": "5biRFgnllaW1",
        "colab": {
          "base_uri": "https://localhost:8080/"
        },
        "outputId": "c40bfbbb-6030-4792-f1ed-a6fd0e8bc72b"
      },
      "outputs": [
        {
          "output_type": "stream",
          "name": "stdout",
          "text": [
            "hi\n"
          ]
        }
      ],
      "source": [
        "print(\"hi\")"
      ]
    },
    {
      "cell_type": "code",
      "source": [
        "12+3\n",
        "12-3\n",
        "12*3\n",
        "32/5\n",
        "32%5\n",
        "32//5\n",
        "7**2\n"
      ],
      "metadata": {
        "id": "VMtyG6r_mYBs",
        "colab": {
          "base_uri": "https://localhost:8080/"
        },
        "outputId": "3cd4b390-e6b5-40bb-c1a3-e74aac83527c"
      },
      "execution_count": 26,
      "outputs": [
        {
          "output_type": "execute_result",
          "data": {
            "text/plain": [
              "49"
            ]
          },
          "metadata": {},
          "execution_count": 26
        }
      ]
    },
    {
      "cell_type": "code",
      "source": [
        "34//3"
      ],
      "metadata": {
        "id": "2ZCda3iBnYcu",
        "colab": {
          "base_uri": "https://localhost:8080/"
        },
        "outputId": "7a84aeb2-48fe-47f5-bb21-44a289a52ecb"
      },
      "execution_count": 28,
      "outputs": [
        {
          "output_type": "execute_result",
          "data": {
            "text/plain": [
              "11"
            ]
          },
          "metadata": {},
          "execution_count": 28
        }
      ]
    },
    {
      "cell_type": "code",
      "source": [
        "34%3"
      ],
      "metadata": {
        "id": "xkKf15AqoJuL",
        "colab": {
          "base_uri": "https://localhost:8080/"
        },
        "outputId": "44123a5d-394f-4f2d-ecc9-2ccf8d902d5d"
      },
      "execution_count": 29,
      "outputs": [
        {
          "output_type": "execute_result",
          "data": {
            "text/plain": [
              "1"
            ]
          },
          "metadata": {},
          "execution_count": 29
        }
      ]
    },
    {
      "cell_type": "code",
      "source": [
        "3**2"
      ],
      "metadata": {
        "id": "kRHyGVbznu8F",
        "colab": {
          "base_uri": "https://localhost:8080/"
        },
        "outputId": "3a2df5ac-efdd-4370-e9f8-737f2b873231"
      },
      "execution_count": 30,
      "outputs": [
        {
          "output_type": "execute_result",
          "data": {
            "text/plain": [
              "9"
            ]
          },
          "metadata": {},
          "execution_count": 30
        }
      ]
    },
    {
      "cell_type": "code",
      "source": [
        "3**3"
      ],
      "metadata": {
        "id": "GTuKGSL3nyvK",
        "colab": {
          "base_uri": "https://localhost:8080/"
        },
        "outputId": "be021af2-2849-4127-b37e-b569bb1387aa"
      },
      "execution_count": 31,
      "outputs": [
        {
          "output_type": "execute_result",
          "data": {
            "text/plain": [
              "27"
            ]
          },
          "metadata": {},
          "execution_count": 31
        }
      ]
    },
    {
      "cell_type": "code",
      "source": [
        "上底 = int(input('請輸入梯形上底長度:'))\n",
        "下底 = int(input('請輸入梯形下底長度：'))\n",
        "高 = int(input('請輸入梯形的高度:'))\n",
        "面積 = (上底 + 下底) * 高 / 2\n",
        "print(\"梯形上底長度為：\",上底,\"梯形下底長度為:\",下底,\"梯形高度為:\",高,\"梯形面積為：\",面積,sep = \" \")"
      ],
      "metadata": {
        "colab": {
          "base_uri": "https://localhost:8080/"
        },
        "id": "XyiM9EDDob0l",
        "outputId": "45208a10-d93d-420c-91a9-4094b66f62b0"
      },
      "execution_count": 32,
      "outputs": [
        {
          "output_type": "stream",
          "name": "stdout",
          "text": [
            "請輸入梯形上底長度:2\n",
            "請輸入梯形下底長度：2\n",
            "請輸入梯形的高度:2\n",
            "梯形上底長度為： 2 梯形下底長度為: 2 梯形高度為: 2 梯形面積為： 4.0\n"
          ]
        }
      ]
    },
    {
      "cell_type": "code",
      "source": [
        "print(面積)"
      ],
      "metadata": {
        "colab": {
          "base_uri": "https://localhost:8080/"
        },
        "id": "bOlO6FWMpoxX",
        "outputId": "ca88100e-dd95-4d8d-e96e-006ccd2f6bc3"
      },
      "execution_count": 33,
      "outputs": [
        {
          "output_type": "stream",
          "name": "stdout",
          "text": [
            "4.0\n"
          ]
        }
      ]
    },
    {
      "cell_type": "code",
      "source": [
        "print('梯形上底長度為: %d, 梯形下底長度為: %d, 梯形高度為: %d, 梯形面積為: %d' % (上底 ,下底 , 高, 面積))"
      ],
      "metadata": {
        "id": "a3rXkdtrtHRQ",
        "colab": {
          "base_uri": "https://localhost:8080/"
        },
        "outputId": "3ddc57f2-e652-4e5f-8ccb-8f6ba3d77efe"
      },
      "execution_count": 34,
      "outputs": [
        {
          "output_type": "stream",
          "name": "stdout",
          "text": [
            "梯形上底長度為: 2, 梯形下底長度為: 2, 梯形高度為: 2, 梯形面積為: 4,\n"
          ]
        }
      ]
    },
    {
      "cell_type": "code",
      "source": [
        "print('梯形上底長度為: %d, 梯形下底長度為: %d, 梯形高度為: %d, 梯形面積為: %0.1f' % (上底, 下底, 高, 面積))"
      ],
      "metadata": {
        "id": "jKo2vTVJu8oq",
        "colab": {
          "base_uri": "https://localhost:8080/"
        },
        "outputId": "a17ca2e0-8542-4b4c-f78c-89738553ac5d"
      },
      "execution_count": 35,
      "outputs": [
        {
          "output_type": "stream",
          "name": "stdout",
          "text": [
            "梯形上底長度為: 2, 梯形下底長度為: 2, 梯形高度為: 2, 梯形面積為: 4.0,\n"
          ]
        }
      ]
    },
    {
      "cell_type": "code",
      "source": [
        "a = 1.1\n",
        "b = 2.02\n",
        "c = 3.003\n",
        "print('a=%0.1f, b=%0.2f, c=%0.3f' % (a, b, c))"
      ],
      "metadata": {
        "colab": {
          "base_uri": "https://localhost:8080/"
        },
        "id": "3birXq5VymNE",
        "outputId": "f8d3ab72-0704-41f0-ab8c-f7640d53dbc4"
      },
      "execution_count": 36,
      "outputs": [
        {
          "output_type": "stream",
          "name": "stdout",
          "text": [
            "a=1.1, b=2.02, c=3.003\n"
          ]
        }
      ]
    },
    {
      "cell_type": "code",
      "source": [
        "\n",
        "身高 = float(input(\"請輸入您的身高(cm):\"))\n",
        "體重 = float(input(\"請輸入您的體重(kg):\"))\n",
        "BMI = 體重/(身高/100)**2\n",
        "print(\"身高 %d 公分, 體重 %d 公斤, BMI值為 %.2f\" % (身高, 體重, BMI))"
      ],
      "metadata": {
        "colab": {
          "base_uri": "https://localhost:8080/"
        },
        "id": "DI3wH7Ja0Zim",
        "outputId": "25528124-3b1b-4f5b-a28d-7a5cd2c1d748"
      },
      "execution_count": 37,
      "outputs": [
        {
          "output_type": "stream",
          "name": "stdout",
          "text": [
            "請輸入您的身高(cm):180\n",
            "請輸入您的體重(kg):80\n",
            "身高 180 公分, 體重 80 公斤, BMI值為 24.69\n"
          ]
        }
      ]
    },
    {
      "cell_type": "code",
      "source": [
        "6+9==2+13"
      ],
      "metadata": {
        "id": "jNHxk-pr3f0J",
        "colab": {
          "base_uri": "https://localhost:8080/"
        },
        "outputId": "2a4a3752-4d6c-4896-a2e9-750f5c4175a3"
      },
      "execution_count": 38,
      "outputs": [
        {
          "output_type": "execute_result",
          "data": {
            "text/plain": [
              "True"
            ]
          },
          "metadata": {},
          "execution_count": 38
        }
      ]
    },
    {
      "cell_type": "code",
      "source": [
        "8+9==2+13"
      ],
      "metadata": {
        "id": "eE3C6J3h4t5K",
        "colab": {
          "base_uri": "https://localhost:8080/"
        },
        "outputId": "78f5aa99-6294-4798-c0c3-4f656ade4524"
      },
      "execution_count": 39,
      "outputs": [
        {
          "output_type": "execute_result",
          "data": {
            "text/plain": [
              "False"
            ]
          },
          "metadata": {},
          "execution_count": 39
        }
      ]
    },
    {
      "cell_type": "code",
      "source": [
        "8+9>2+13"
      ],
      "metadata": {
        "id": "Z5i1tWox4x2C",
        "colab": {
          "base_uri": "https://localhost:8080/"
        },
        "outputId": "9982160f-7e7a-41e7-9a96-2a7a65be8861"
      },
      "execution_count": 40,
      "outputs": [
        {
          "output_type": "execute_result",
          "data": {
            "text/plain": [
              "True"
            ]
          },
          "metadata": {},
          "execution_count": 40
        }
      ]
    },
    {
      "cell_type": "code",
      "source": [
        "6+9>2+13"
      ],
      "metadata": {
        "id": "MkUmpaE_43RL",
        "colab": {
          "base_uri": "https://localhost:8080/"
        },
        "outputId": "5b0cff66-56ce-403a-ca12-8f3cd775d0f2"
      },
      "execution_count": 41,
      "outputs": [
        {
          "output_type": "execute_result",
          "data": {
            "text/plain": [
              "False"
            ]
          },
          "metadata": {},
          "execution_count": 41
        }
      ]
    },
    {
      "cell_type": "code",
      "source": [
        "5+9<2+13"
      ],
      "metadata": {
        "id": "t35ZuadX48Tj",
        "colab": {
          "base_uri": "https://localhost:8080/"
        },
        "outputId": "4e678f67-c521-44ea-c1eb-326548af0d33"
      },
      "execution_count": 42,
      "outputs": [
        {
          "output_type": "execute_result",
          "data": {
            "text/plain": [
              "True"
            ]
          },
          "metadata": {},
          "execution_count": 42
        }
      ]
    },
    {
      "cell_type": "code",
      "source": [
        "8+9<2+13"
      ],
      "metadata": {
        "id": "PvqYn7Cl5Bat",
        "colab": {
          "base_uri": "https://localhost:8080/"
        },
        "outputId": "b7fa1892-787d-4fcf-9053-d49019f40d50"
      },
      "execution_count": 43,
      "outputs": [
        {
          "output_type": "execute_result",
          "data": {
            "text/plain": [
              "False"
            ]
          },
          "metadata": {},
          "execution_count": 43
        }
      ]
    },
    {
      "cell_type": "code",
      "source": [
        "6+9>=2+13"
      ],
      "metadata": {
        "id": "VfIYFqJS5GyV",
        "colab": {
          "base_uri": "https://localhost:8080/"
        },
        "outputId": "010c6665-d1a0-44f7-b861-7190efd3b10b"
      },
      "execution_count": 44,
      "outputs": [
        {
          "output_type": "execute_result",
          "data": {
            "text/plain": [
              "True"
            ]
          },
          "metadata": {},
          "execution_count": 44
        }
      ]
    },
    {
      "cell_type": "code",
      "source": [
        "3+9>=2+13"
      ],
      "metadata": {
        "id": "Hu5jxET65KsP",
        "colab": {
          "base_uri": "https://localhost:8080/"
        },
        "outputId": "2c51c577-97f1-406a-b345-7b14fb286431"
      },
      "execution_count": 45,
      "outputs": [
        {
          "output_type": "execute_result",
          "data": {
            "text/plain": [
              "False"
            ]
          },
          "metadata": {},
          "execution_count": 45
        }
      ]
    },
    {
      "cell_type": "code",
      "source": [
        "3+9<=2+13"
      ],
      "metadata": {
        "id": "1psesp9x5PY9",
        "colab": {
          "base_uri": "https://localhost:8080/"
        },
        "outputId": "0dd7dc94-3fa9-4c40-eeca-c997840e9515"
      },
      "execution_count": 46,
      "outputs": [
        {
          "output_type": "execute_result",
          "data": {
            "text/plain": [
              "True"
            ]
          },
          "metadata": {},
          "execution_count": 46
        }
      ]
    },
    {
      "cell_type": "code",
      "source": [
        "8+9<=2+13"
      ],
      "metadata": {
        "id": "hEg7iObl5XA1",
        "colab": {
          "base_uri": "https://localhost:8080/"
        },
        "outputId": "a77c6044-965c-4e0d-f7ff-924a27b6d0ea"
      },
      "execution_count": 47,
      "outputs": [
        {
          "output_type": "execute_result",
          "data": {
            "text/plain": [
              "False"
            ]
          },
          "metadata": {},
          "execution_count": 47
        }
      ]
    }
  ]
}