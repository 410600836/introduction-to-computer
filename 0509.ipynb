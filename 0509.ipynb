{
  "nbformat": 4,
  "nbformat_minor": 0,
  "metadata": {
    "colab": {
      "name": "0509.ipynb",
      "provenance": [],
      "authorship_tag": "ABX9TyNRt5JSoy3mhOzrJW59cIQY",
      "include_colab_link": true
    },
    "kernelspec": {
      "name": "python3",
      "display_name": "Python 3"
    },
    "language_info": {
      "name": "python"
    }
  },
  "cells": [
    {
      "cell_type": "markdown",
      "metadata": {
        "id": "view-in-github",
        "colab_type": "text"
      },
      "source": [
        "<a href=\"https://colab.research.google.com/github/410600836/introduction-to-computer/blob/main/0509.ipynb\" target=\"_parent\"><img src=\"https://colab.research.google.com/assets/colab-badge.svg\" alt=\"Open In Colab\"/></a>"
      ]
    },
    {
      "cell_type": "code",
      "execution_count": null,
      "metadata": {
        "colab": {
          "base_uri": "https://localhost:8080/"
        },
        "id": "Xl-33pZgyWwC",
        "outputId": "08fafd16-ab38-487b-cef7-0d3a3e9a1e89"
      },
      "outputs": [
        {
          "output_type": "stream",
          "name": "stdout",
          "text": [
            "123\n"
          ]
        }
      ],
      "source": [
        "print(\"123\")"
      ]
    },
    {
      "cell_type": "code",
      "source": [
        "temp = float(input(\"請輸入您的體溫\"))\n",
        "if temp >= 37.5:\n",
        "  print(\"體溫過高!\")\n",
        "elif temp >= 37 and temp < 37.4:\n",
        "  print(\"體溫略高!\")\n",
        "elif temp >= 34 and temp < 36.9:\n",
        "  print(\"體溫正常!\")\n",
        "else:\n",
        "  print(\"體溫異常，請重新量測!\")"
      ],
      "metadata": {
        "colab": {
          "base_uri": "https://localhost:8080/"
        },
        "id": "TFXkKgLs73GV",
        "outputId": "12217308-04b8-4e7e-aaa3-caa63e6d5502"
      },
      "execution_count": null,
      "outputs": [
        {
          "output_type": "stream",
          "name": "stdout",
          "text": [
            "請輸入您的體溫25\n",
            "體溫異常，請重新量測!\n"
          ]
        }
      ]
    },
    {
      "cell_type": "code",
      "source": [
        "score = int(input(\"請輸入成績:\"))\n",
        "if score >= 90:\n",
        "  print(\"A\")\n",
        "elif score >= 80 and score < 90:\n",
        "  print(\"B\")\n",
        "elif score >= 70 and score < 80:\n",
        "  print(\"C\")\n",
        "elif score >= 60 and score < 70:\n",
        "  print(\"D\")\n",
        "else:\n",
        "  print(\"E\")"
      ],
      "metadata": {
        "colab": {
          "base_uri": "https://localhost:8080/"
        },
        "id": "AHMEh9bx_gEa",
        "outputId": "87b53ba6-cea0-4fb7-cba9-4a7a6ce967be"
      },
      "execution_count": null,
      "outputs": [
        {
          "output_type": "stream",
          "name": "stdout",
          "text": [
            "請輸入成績:56\n",
            "E\n"
          ]
        }
      ]
    },
    {
      "cell_type": "code",
      "source": [
        "score = input(\"請輸入成績:\")\n",
        "if int(score) >= 90:\n",
        "  print(\"A\")\n",
        "elif int(score) >= 80 :\n",
        "  print(\"B\")\n",
        "elif int(score) >= 70 :\n",
        "  print(\"C\")\n",
        "elif int(score) >= 60 :\n",
        "  print(\"D\")\n",
        "else:\n",
        "  print(\"E\")"
      ],
      "metadata": {
        "id": "Mr7sfUJ8EI_d",
        "colab": {
          "base_uri": "https://localhost:8080/"
        },
        "outputId": "71b72d83-7623-45b4-8dd3-a21f284aa7f4"
      },
      "execution_count": 48,
      "outputs": [
        {
          "output_type": "stream",
          "name": "stdout",
          "text": [
            "請輸入成績:89\n",
            "B\n"
          ]
        }
      ]
    },
    {
      "cell_type": "code",
      "source": [
        "money = int(input(\"請輸入購物金額:\"))\n",
        "if ( money >= 10000):\n",
        "  if ( money >= 100000):\n",
        "    print(\"八折\",money * 0.8, end = \" 元\\n\")\n",
        "  elif ( money >= 50000):\n",
        "    print(\"八五折\",money * 0.85, end = \" 元\\n\")\n",
        "  elif ( money >= 30000):\n",
        "    print(\"九折\",money * 0.9, end = \" 元\\n\")\n",
        "  else:\n",
        "    print(\"九五折\",money * 0.95, end = \" 元\\n\")\n",
        "else:\n",
        "  print(\"沒打折\",money, end= \"元\\n\")\n",
        "\n"
      ],
      "metadata": {
        "colab": {
          "base_uri": "https://localhost:8080/"
        },
        "id": "ohPlzHyYE03S",
        "outputId": "915a009d-cbd7-40f7-b69a-98661c57e78c"
      },
      "execution_count": 26,
      "outputs": [
        {
          "output_type": "stream",
          "name": "stdout",
          "text": [
            "請輸入購物金額:500\n",
            "沒打折 500元\n"
          ]
        }
      ]
    },
    {
      "cell_type": "code",
      "source": [
        "season = int(input(\"請輸入月份:\"))\n",
        "if (season >= 1 and season <= 12):\n",
        "  if (season >= 3 and season <= 5):\n",
        "    print(season,\"月是春天\", end = \"!\")\n",
        "  elif (season >= 6 and season <= 8):\n",
        "    print(season,\"月是夏天\", end = \"!\")\n",
        "  elif (season >= 9 and season <= 11):\n",
        "    print(season,\"月是秋天\", end = \"!\")\n",
        "  else :\n",
        "    print(season,\"月是冬天\", end = \"!\")\n",
        "else :\n",
        "  print(\"月份不在範圍內!\")"
      ],
      "metadata": {
        "colab": {
          "base_uri": "https://localhost:8080/"
        },
        "id": "LjZVpx15RJa3",
        "outputId": "c5cadc79-ecb9-4a7c-fe07-32ab9ed1f643"
      },
      "execution_count": 39,
      "outputs": [
        {
          "output_type": "stream",
          "name": "stdout",
          "text": [
            "請輸入月份:13\n",
            "月份不在範圍內!\n"
          ]
        }
      ]
    },
    {
      "cell_type": "code",
      "source": [
        "收入 = int(input(\"請輸入今年收入淨額:\"))\n",
        "if (收入 >= 300000):\n",
        "  if (收入 >= 2000000):\n",
        "    print(\"付稅金額:\",收入 * 0.8, end = \"元\\n\")\n",
        "  elif (收入 >= 1000000):\n",
        "    print(\"付稅金額:\",收入 *0.21 , end = \"元\\n\")\n",
        "  elif (收入 >= 600000):\n",
        "    print(\"付稅金額:\",收入 *0.13 , end = \"元\\n\")\n",
        "  else :\n",
        "    print(\"付稅金額:\",收入 *0.6 , end = \"元\\n\")\n",
        "else :\n",
        "  print(\"付稅金額:0\",end = \"元\\n\")"
      ],
      "metadata": {
        "colab": {
          "base_uri": "https://localhost:8080/"
        },
        "id": "K3Zok0ZMVcIV",
        "outputId": "d30a500f-3ac7-4eb4-9f26-4926bcdb6a8b"
      },
      "execution_count": 47,
      "outputs": [
        {
          "output_type": "stream",
          "name": "stdout",
          "text": [
            "請輸入今年收入淨額:456\n",
            "付稅金額:0元\n"
          ]
        }
      ]
    }
  ]
}